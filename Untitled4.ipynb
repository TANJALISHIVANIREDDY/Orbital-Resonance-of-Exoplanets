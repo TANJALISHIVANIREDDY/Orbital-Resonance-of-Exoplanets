{
  "nbformat": 4,
  "nbformat_minor": 0,
  "metadata": {
    "colab": {
      "name": "Untitled4.ipynb",
      "provenance": [],
      "collapsed_sections": [],
      "authorship_tag": "ABX9TyOid2hbWFruPj8bIU8/bzJt",
      "include_colab_link": true
    },
    "kernelspec": {
      "name": "python3",
      "display_name": "Python 3"
    },
    "language_info": {
      "name": "python"
    }
  },
  "cells": [
    {
      "cell_type": "markdown",
      "metadata": {
        "id": "view-in-github",
        "colab_type": "text"
      },
      "source": [
        "<a href=\"https://colab.research.google.com/github/TANJALISHIVANIREDDY/Orbital-Resonance-of-Exoplanets/blob/main/Untitled4.ipynb\" target=\"_parent\"><img src=\"https://colab.research.google.com/assets/colab-badge.svg\" alt=\"Open In Colab\"/></a>"
      ]
    },
    {
      "cell_type": "code",
      "metadata": {
        "id": "hXnsZ_j7wBnz"
      },
      "source": [
        "import math"
      ],
      "execution_count": 13,
      "outputs": []
    },
    {
      "cell_type": "markdown",
      "metadata": {
        "id": "hbjt9tBkznB2"
      },
      "source": [
        "Calcualtion of major and minor axis of Exoplanet"
      ]
    },
    {
      "cell_type": "code",
      "metadata": {
        "id": "DfP8x5HFwMtM"
      },
      "source": [
        "a = 0.0677\n",
        "e = 0.0810"
      ],
      "execution_count": 14,
      "outputs": []
    },
    {
      "cell_type": "code",
      "metadata": {
        "id": "Pdde1iLCwY76"
      },
      "source": [
        "aa= pow(a,2)\n",
        "c=pow((a*e),2)"
      ],
      "execution_count": 15,
      "outputs": []
    },
    {
      "cell_type": "code",
      "metadata": {
        "id": "ovYcP7nyxK_E"
      },
      "source": [
        "Min_ax=2*(math.sqrt(aa-c))"
      ],
      "execution_count": 19,
      "outputs": []
    },
    {
      "cell_type": "code",
      "metadata": {
        "id": "lH28akL5yJpV"
      },
      "source": [
        "Maj_ax=2*a"
      ],
      "execution_count": 20,
      "outputs": []
    },
    {
      "cell_type": "code",
      "metadata": {
        "colab": {
          "base_uri": "https://localhost:8080/"
        },
        "id": "Y-CudoMX0aEV",
        "outputId": "3c265c66-d261-4af7-ff2d-8159a318bcef"
      },
      "source": [
        "Min_ax*1000, Maj_ax*1000"
      ],
      "execution_count": 23,
      "outputs": [
        {
          "output_type": "execute_result",
          "data": {
            "text/plain": [
              "(134.95508933434112, 135.4)"
            ]
          },
          "metadata": {},
          "execution_count": 23
        }
      ]
    },
    {
      "cell_type": "markdown",
      "metadata": {
        "id": "iqAVNVO10-5E"
      },
      "source": [
        "Exoplanet -2"
      ]
    },
    {
      "cell_type": "code",
      "metadata": {
        "colab": {
          "base_uri": "https://localhost:8080/"
        },
        "id": "uHdL_16u0-CF",
        "outputId": "c530a9d3-feac-4cba-e0dc-1ddc4fc0caad"
      },
      "source": [
        "a = 0.0929\n",
        "e = 0.0780\n",
        "aa= pow(a,2)\n",
        "c=pow((a*e),2)\n",
        "Min_ax=2*(math.sqrt(aa-c))\n",
        "Maj_ax=2*a\n",
        "Min_ax*1000, Maj_ax*1000"
      ],
      "execution_count": 25,
      "outputs": [
        {
          "output_type": "execute_result",
          "data": {
            "text/plain": [
              "(185.23393410020748, 185.79999999999998)"
            ]
          },
          "metadata": {},
          "execution_count": 25
        }
      ]
    },
    {
      "cell_type": "markdown",
      "metadata": {
        "id": "4DYDLye52QXV"
      },
      "source": [
        "Exoplanet-3"
      ]
    },
    {
      "cell_type": "code",
      "metadata": {
        "colab": {
          "base_uri": "https://localhost:8080/"
        },
        "id": "p0YwlRFE189g",
        "outputId": "b268292d-d476-4c3f-ca57-072f2b5167c2"
      },
      "source": [
        "a = 0.1633\n",
        "e = 0.111\n",
        "aa= pow(a,2)\n",
        "c=pow((a*e),2)\n",
        "Min_ax=2*(math.sqrt(aa-c))\n",
        "Maj_ax=2*a\n",
        "Min_ax*1000, Maj_ax*1000"
      ],
      "execution_count": 26,
      "outputs": [
        {
          "output_type": "execute_result",
          "data": {
            "text/plain": [
              "(324.58174470114614, 326.6)"
            ]
          },
          "metadata": {},
          "execution_count": 26
        }
      ]
    },
    {
      "cell_type": "code",
      "metadata": {
        "colab": {
          "base_uri": "https://localhost:8080/"
        },
        "id": "num9iAFW3AXJ",
        "outputId": "1f412d97-cec1-4903-8a1a-659893acb114"
      },
      "source": [
        "p= 9.97701\n",
        "math.pi*2/p"
      ],
      "execution_count": 27,
      "outputs": [
        {
          "output_type": "execute_result",
          "data": {
            "text/plain": [
              "0.6297663635878471"
            ]
          },
          "metadata": {},
          "execution_count": 27
        }
      ]
    }
  ]
}